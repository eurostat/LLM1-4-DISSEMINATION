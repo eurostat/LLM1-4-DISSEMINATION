{
 "cells": [
  {
   "cell_type": "code",
   "execution_count": null,
   "metadata": {},
   "outputs": [],
   "source": [
    "################# Dependencies"
   ]
  },
  {
   "cell_type": "code",
   "execution_count": 1,
   "metadata": {},
   "outputs": [],
   "source": [
    "from llama_index import download_loader\n",
    "from langchain.embeddings.huggingface import HuggingFaceEmbeddings\n",
    "from llama_index import LangchainEmbedding, ServiceContext\n",
    "from llama_index.callbacks import CallbackManager, LlamaDebugHandler\n",
    "from llama_index import ServiceContext, LLMPredictor\n",
    "from llama_index.prompts import PromptTemplate\n",
    "from llama_index.llms import HuggingFaceLLM\n",
    "import torch\n",
    "from llama_index.llms import HuggingFaceLLM\n",
    "from llama_index.prompts.prompts import SimpleInputPrompt\n",
    "import os\n",
    "import json\n",
    "import os\n",
    "import glob\n",
    "import datetime\n",
    "JsonDataReader = download_loader(\"JsonDataReader\")\n",
    "from llama_index import StorageContext, load_index_from_storage\n",
    "from llama_index.response.notebook_utils import display_response\n",
    "from llama_index import ServiceContext\n",
    "from llama_index.prompts import PromptTemplate\n",
    "from llama_index.llms import Replicate\n",
    "from llama_index import ServiceContext\n",
    "from llama_index import GPTVectorStoreIndex\n",
    "os.environ[\"REPLICATE_API_TOKEN\"] = \"\""
   ]
  },
  {
   "cell_type": "code",
   "execution_count": null,
   "metadata": {},
   "outputs": [],
   "source": [
    "####################Variables, objects creation"
   ]
  },
  {
   "cell_type": "code",
   "execution_count": 2,
   "metadata": {},
   "outputs": [],
   "source": [
    "llm = Replicate(\n",
    "    model=\"meta/llama-2-13b-chat:9dff94b1bed5af738655d4a7cbcdcde2bd503aa85c94334fe1f42af7f3dd5ee3\",\n",
    "    is_chat_model=True,\n",
    "    additional_kwargs={\"max_new_tokens\": 512}\n",
    ")\n",
    "service_context = ServiceContext.from_defaults(llm=llm, embed_model=\"local:BAAI/bge-small-en-v1.5\")"
   ]
  },
  {
   "cell_type": "code",
   "execution_count": null,
   "metadata": {},
   "outputs": [],
   "source": [
    "###################  Data loading and index creation"
   ]
  },
  {
   "cell_type": "code",
   "execution_count": null,
   "metadata": {},
   "outputs": [],
   "source": [
    "# Data loading\n",
    "# JSON reader\n",
    "JsonDataReader = download_loader(\"JsonDataReader\")\n",
    "# path to the data\n",
    "path = '/notebooks/Data/Jsondata/'\n",
    "docs = []\n",
    "count = 0\n",
    "for filename in glob.glob(os.path.join(path, '*.json')): \n",
    "    with open(filename, encoding='utf-8', mode='r') as currentFile:\n",
    "        data=currentFile.read()\n",
    "        docs.append(data)\n",
    "        print(str(count))\n",
    "        count = count + 1\n",
    "loader = JsonDataReader()\n",
    "documents = loader.load_data(docs)\n",
    "# Creating indexing\n",
    "\n",
    "index = GPTVectorStoreIndex.from_documents(documents, service_context=service_context)\n",
    "#storing indexing\n",
    "index.storage_context.persist(\"/notebooks/data/indexes/llama13B_index\")"
   ]
  },
  {
   "cell_type": "code",
   "execution_count": null,
   "metadata": {},
   "outputs": [],
   "source": []
  }
 ],
 "metadata": {
  "kernelspec": {
   "display_name": "Python 3",
   "language": "python",
   "name": "python3"
  },
  "language_info": {
   "codemirror_mode": {
    "name": "ipython",
    "version": 3
   },
   "file_extension": ".py",
   "mimetype": "text/x-python",
   "name": "python",
   "nbconvert_exporter": "python",
   "pygments_lexer": "ipython3",
   "version": "3.8.5"
  }
 },
 "nbformat": 4,
 "nbformat_minor": 4
}

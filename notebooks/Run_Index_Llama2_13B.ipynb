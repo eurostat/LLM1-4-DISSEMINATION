{
 "cells": [
  {
   "cell_type": "code",
   "execution_count": null,
   "metadata": {},
   "outputs": [],
   "source": [
    "################# Dependencies"
   ]
  },
  {
   "cell_type": "code",
   "execution_count": 1,
   "metadata": {},
   "outputs": [],
   "source": [
    "from llama_index import download_loader\n",
    "from langchain.embeddings.huggingface import HuggingFaceEmbeddings\n",
    "from llama_index import LangchainEmbedding, ServiceContext\n",
    "from llama_index.callbacks import CallbackManager, LlamaDebugHandler\n",
    "from llama_index import ServiceContext, LLMPredictor\n",
    "from llama_index.prompts import PromptTemplate\n",
    "from llama_index.llms import HuggingFaceLLM\n",
    "import torch\n",
    "from llama_index.llms import HuggingFaceLLM\n",
    "from llama_index.prompts.prompts import SimpleInputPrompt\n",
    "import os\n",
    "import json\n",
    "import os\n",
    "import glob\n",
    "import datetime\n",
    "JsonDataReader = download_loader(\"JsonDataReader\")\n",
    "from llama_index import StorageContext, load_index_from_storage\n",
    "from llama_index.response.notebook_utils import display_response\n",
    "from llama_index import ServiceContext\n",
    "from llama_index.prompts import PromptTemplate\n",
    "from llama_index.llms import Replicate\n",
    "from llama_index import ServiceContext\n",
    "from llama_index import GPTVectorStoreIndex\n",
    "os.environ[\"REPLICATE_API_TOKEN\"] = \"add replicate token....\""
   ]
  },
  {
   "cell_type": "code",
   "execution_count": 2,
   "metadata": {},
   "outputs": [
    {
     "data": {
      "text/plain": [
       "'r8_HyC7xLTAlPkAisoWdEHcjHv6k8rClBx3quVyk'"
      ]
     },
     "execution_count": 2,
     "metadata": {},
     "output_type": "execute_result"
    }
   ],
   "source": [
    "os.environ[\"REPLICATE_API_TOKEN\"]"
   ]
  },
  {
   "cell_type": "code",
   "execution_count": 3,
   "metadata": {},
   "outputs": [],
   "source": [
    "####################Variables, objects creation"
   ]
  },
  {
   "cell_type": "code",
   "execution_count": 4,
   "metadata": {},
   "outputs": [],
   "source": [
    "llm = Replicate(\n",
    "    model=\"meta/llama-2-13b-chat:9dff94b1bed5af738655d4a7cbcdcde2bd503aa85c94334fe1f42af7f3dd5ee3\",\n",
    "    is_chat_model=True,\n",
    "    additional_kwargs={\"max_new_tokens\": 512})\n",
    "service_context = ServiceContext.from_defaults(llm=llm, embed_model=\"local:BAAI/bge-small-en-v1.5\")"
   ]
  },
  {
   "cell_type": "code",
   "execution_count": 13,
   "metadata": {},
   "outputs": [],
   "source": [
    "########### Loading index and querying"
   ]
  },
  {
   "cell_type": "code",
   "execution_count": 5,
   "metadata": {},
   "outputs": [],
   "source": [
    "storage_context = StorageContext.from_defaults(persist_dir=\"d:/Users/mihac/Desktop/numerical_llm/notebooks/Data/indexes/llama13B_index\")\n",
    "index = load_index_from_storage(storage_context, service_context=service_context)\n",
    "query_engine = index.as_query_engine(response_mode=\"compact\")"
   ]
  },
  {
   "cell_type": "code",
   "execution_count": 26,
   "metadata": {},
   "outputs": [
    {
     "name": "stdout",
     "output_type": "stream",
     "text": [
      "REQUEST_WITH_SYSTEM-PROMPT:\n",
      "Act as a Eurostat's statistical assistant. Use the context data provided as descriptions of eurostat tables. Answer questions in a friendly manner, based on the given source documents as well as general statistical eurostat knowledge. Limit the output to the data related only to eurostat. Here are some rules you always follow: (1) Generate human readable output, avoid creating output with gibberish text. Answer directly with no additional introductory text (2) Generate only the requested output, don't include any other language before or after the requested output. (3) Generate professional language typically used in business documents in North America. (4) Never generate offensive or foul language. Please answer the folllowing question:which conutries had the highest growth on GDP in last 10 years and in which tables of eurostat data I can find these iformation? Provide also the names of the tables\n",
      "\n",
      "USER_PROMPT:\n",
      "which conutries had the highest growth on GDP in last 10 years and in which tables of eurostat data I can find these iformation? Provide also the names of the tables\n"
     ]
    }
   ],
   "source": [
    "system_prompt = \"Act as a Eurostat's statistical assistant. Use the context data provided as descriptions of eurostat tables. Answer questions in a friendly manner, based on the given source documents as well as general statistical eurostat knowledge. Limit the output to the data related only to eurostat. Here are some rules you always follow: (1) Generate human readable output, avoid creating output with gibberish text. Answer directly with no additional introductory text (2) Generate only the requested output, don't include any other language before or after the requested output. (3) Generate professional language typically used in business documents in North America. (4) Never generate offensive or foul language. Please answer the folllowing question:\"\n",
    "\n",
    "question = \"which conutries had the highest growth on GDP in last 10 years and in which tables of eurostat data I can find these iformation? Provide also the names of the tables\"\n",
    "\n",
    "full_request= system_prompt + question\n",
    "print (f\"REQUEST_WITH_SYSTEM-PROMPT:\\n{full_request}\")\n",
    "print (f\"\\nUSER_PROMPT:\\n{question}\")"
   ]
  },
  {
   "cell_type": "code",
   "execution_count": 27,
   "metadata": {
    "scrolled": true
   },
   "outputs": [
    {
     "name": "stdout",
     "output_type": "stream",
     "text": [
      "start time: 2024-01-07 16:49:42.938894\n",
      "RESPONSE_WITHOUGHT_SYSTEM-PROMPT:\n",
      " Hello! As an expert Q&A system, I'm here to help you with your query. Based on the provided context information, I will not directly reference the given context information or use prior knowledge. Instead, I will provide a helpful answer based on my training data.\n",
      "\n",
      "To answer your question, you can refer to the Eurostat database, which provides comprehensive statistics on various economic indicators, including GDP. Specifically, you can look at the tables containing data on GDP growth rates for different countries over the past 10 years.\n",
      "\n",
      "Here are some table suggestions based on your query:\n",
      "\n",
      "1. namq_10_gdp (General government final consumption expenditure by purpose) - This table provides data on GDP growth rates for European Union member states from 2010 to 2022. You can find the highest growth rates for each country during this period.\n",
      "2. gdppc (Gross Domestic Product per capita) - This table gives you the GDP per capita figures for all EU member states from 2005 to 2022. By comparing the growth rates across countries, you can identify those with the highest growth rates over the past decade.\n",
      "3.\n",
      "end time: 2024-01-07 16:49:52.967490\n",
      "\n",
      "RESPONSE_WITH_SYSTEM-PROMPT:\n",
      " Hello! As a Eurostat statistical assistant, I'd be happy to help you with your query. Based on the provided context information, I understand that you are looking for the countries with the highest growth in GDP over the past 10 years, and you would like to know where to find this information in Eurostat data.\n",
      "\n",
      "To answer your question, I suggest we take a look at the table \"GDP and its main components - Annual data\" (t_gn_nea). This table provides data on GDP, its components, and growth rates for the European Union member states, as well as other OECD countries. The data is available from 1995 onwards.\n",
      "\n",
      "According to the latest available data (up to 2019), the countries with the highest growth in GDP over the past 10 years are:\n",
      "\n",
      "1. Ireland (with an average annual growth rate of 4.6%);\n",
      "2. Malta (with an average annual growth rate of 4.4%);\n",
      "3. Luxembourg (with an average annual growth rate of 4.3%);\n",
      "4. Cyprus (with an average annual growth rate of 4.2%);\n",
      "5. Estonia (with an average annual growth rate of 4.1%).\n",
      "\n",
      "You can find this information in the \"GDP growth rate\" column of the t_gn_nea table, under the \"Annual data\" section.\n",
      "\n",
      "Additionally, you may also be interested in exploring the table \"Main economic indicators by country - Monthly data\" (t_mei_byc), which provides more recent data on GDP, inflation, employment, and other key economic indicators for the EU member states and other OECD countries.\n",
      "\n",
      "I hope this information helps! If you have any further questions or need assistance with anything else, please don't hesitate to ask.\n",
      "end time: 2024-01-07 16:50:05.014861\n"
     ]
    }
   ],
   "source": [
    "print(\"start time:\", datetime.datetime.now())\n",
    "\n",
    "response_basic = query_engine.query(question)\n",
    "print (f\"RESPONSE_WITHOUGHT_SYSTEM-PROMPT:\\n{response_basic}\")\n",
    "print (\"end time:\", datetime.datetime.now())\n",
    "\n",
    "response_full = query_engine.query(full_request)\n",
    "print (f\"\\nRESPONSE_WITH_SYSTEM-PROMPT:\\n{response_full}\")\n",
    "print (\"end time:\", datetime.datetime.now())"
   ]
  },
  {
   "cell_type": "code",
   "execution_count": null,
   "metadata": {},
   "outputs": [],
   "source": []
  },
  {
   "cell_type": "code",
   "execution_count": null,
   "metadata": {},
   "outputs": [],
   "source": []
  }
 ],
 "metadata": {
  "kernelspec": {
   "display_name": "Python 3 (ipykernel)",
   "language": "python",
   "name": "python3"
  },
  "language_info": {
   "codemirror_mode": {
    "name": "ipython",
    "version": 3
   },
   "file_extension": ".py",
   "mimetype": "text/x-python",
   "name": "python",
   "nbconvert_exporter": "python",
   "pygments_lexer": "ipython3",
   "version": "3.11.5"
  }
 },
 "nbformat": 4,
 "nbformat_minor": 4
}
